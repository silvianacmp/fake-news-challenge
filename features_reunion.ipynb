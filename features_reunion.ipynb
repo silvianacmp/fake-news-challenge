{
 "cells": [
  {
   "cell_type": "code",
   "execution_count": 97,
   "metadata": {
    "collapsed": true
   },
   "outputs": [],
   "source": [
    "import pandas as pd"
   ]
  },
  {
   "cell_type": "code",
   "execution_count": 105,
   "metadata": {
    "collapsed": true
   },
   "outputs": [],
   "source": [
    "train_feats = pd.read_csv('test_stances_with_feats.df')\n",
    "train_kl_feats = pd.read_csv('test_stances_kl_feats.df')\n",
    "train_decomp_feats = pd.read_csv('test_stances_decomp_feats.df')"
   ]
  },
  {
   "cell_type": "code",
   "execution_count": 106,
   "metadata": {
    "collapsed": false
   },
   "outputs": [],
   "source": [
    "train_feats = train_feats.drop('Unnamed: 0', axis=1)\n",
    "train_kl_feats = train_kl_feats.drop('Unnamed: 0', axis=1)\n",
    "train_decomp_feats = train_decomp_feats.drop('Unnamed: 0', axis=1)"
   ]
  },
  {
   "cell_type": "code",
   "execution_count": 107,
   "metadata": {
    "collapsed": false,
    "scrolled": true
   },
   "outputs": [],
   "source": [
    "train_kl_feats = train_kl_feats.sort_values(by='id')\n",
    "train_feats = train_feats.sort_values(by='id')\n",
    "train_decomp_feats = train_decomp_feats.sort_values(by='id')"
   ]
  },
  {
   "cell_type": "code",
   "execution_count": 108,
   "metadata": {
    "collapsed": true
   },
   "outputs": [],
   "source": [
    "train_feats['kl_dirichlet'] = train_kl_feats['kl_dirichlet']\n",
    "train_feats['kl_jelinek_mercer'] = train_kl_feats['kl_jelinek_mercer']\n",
    "train_feats['cosine_svd'] = train_decomp_feats['cosine_svd']\n",
    "train_feats['cosine_lda'] = train_decomp_feats['cosine_lda']"
   ]
  },
  {
   "cell_type": "code",
   "execution_count": 109,
   "metadata": {
    "collapsed": false
   },
   "outputs": [
    {
     "data": {
      "text/html": [
       "<div>\n",
       "<table border=\"1\" class=\"dataframe\">\n",
       "  <thead>\n",
       "    <tr style=\"text-align: right;\">\n",
       "      <th></th>\n",
       "      <th>id</th>\n",
       "      <th>Body ID</th>\n",
       "      <th>cosine_bow</th>\n",
       "      <th>cosine_tf_idf</th>\n",
       "      <th>cosine_embd_mean</th>\n",
       "      <th>cosine_word2vec_mean</th>\n",
       "      <th>article_compound</th>\n",
       "      <th>article_neg</th>\n",
       "      <th>article_pos</th>\n",
       "      <th>article_neu</th>\n",
       "      <th>headline_compound</th>\n",
       "      <th>headline_neg</th>\n",
       "      <th>headline_pos</th>\n",
       "      <th>headline_neu</th>\n",
       "      <th>Stance</th>\n",
       "      <th>kl_dirichlet</th>\n",
       "      <th>kl_jelinek_mercer</th>\n",
       "      <th>cosine_svd</th>\n",
       "      <th>cosine_lda</th>\n",
       "    </tr>\n",
       "  </thead>\n",
       "  <tbody>\n",
       "    <tr>\n",
       "      <th>368</th>\n",
       "      <td>44761</td>\n",
       "      <td>1245</td>\n",
       "      <td>0.126592</td>\n",
       "      <td>0.000000</td>\n",
       "      <td>0.911938</td>\n",
       "      <td>0.539286</td>\n",
       "      <td>0.116640</td>\n",
       "      <td>0.012800</td>\n",
       "      <td>0.050200</td>\n",
       "      <td>0.936800</td>\n",
       "      <td>-0.5859</td>\n",
       "      <td>0.297</td>\n",
       "      <td>0.000</td>\n",
       "      <td>0.703</td>\n",
       "      <td>disagree</td>\n",
       "      <td>1.555461</td>\n",
       "      <td>1.790588</td>\n",
       "      <td>0.900075</td>\n",
       "      <td>0.409966</td>\n",
       "    </tr>\n",
       "    <tr>\n",
       "      <th>369</th>\n",
       "      <td>44782</td>\n",
       "      <td>1099</td>\n",
       "      <td>0.306186</td>\n",
       "      <td>0.219186</td>\n",
       "      <td>0.795051</td>\n",
       "      <td>0.768108</td>\n",
       "      <td>-0.571900</td>\n",
       "      <td>0.275000</td>\n",
       "      <td>0.127000</td>\n",
       "      <td>0.598000</td>\n",
       "      <td>0.2023</td>\n",
       "      <td>0.000</td>\n",
       "      <td>0.184</td>\n",
       "      <td>0.816</td>\n",
       "      <td>disagree</td>\n",
       "      <td>1.219190</td>\n",
       "      <td>2.617037</td>\n",
       "      <td>0.536477</td>\n",
       "      <td>0.865373</td>\n",
       "    </tr>\n",
       "    <tr>\n",
       "      <th>370</th>\n",
       "      <td>44838</td>\n",
       "      <td>1222</td>\n",
       "      <td>0.363395</td>\n",
       "      <td>0.560565</td>\n",
       "      <td>0.835623</td>\n",
       "      <td>0.690828</td>\n",
       "      <td>-0.064166</td>\n",
       "      <td>0.044657</td>\n",
       "      <td>0.044371</td>\n",
       "      <td>0.910971</td>\n",
       "      <td>0.0000</td>\n",
       "      <td>0.000</td>\n",
       "      <td>0.000</td>\n",
       "      <td>1.000</td>\n",
       "      <td>disagree</td>\n",
       "      <td>1.585666</td>\n",
       "      <td>2.470897</td>\n",
       "      <td>0.610571</td>\n",
       "      <td>0.597480</td>\n",
       "    </tr>\n",
       "    <tr>\n",
       "      <th>371</th>\n",
       "      <td>44877</td>\n",
       "      <td>1298</td>\n",
       "      <td>0.184174</td>\n",
       "      <td>0.217427</td>\n",
       "      <td>0.835470</td>\n",
       "      <td>0.628565</td>\n",
       "      <td>-0.150271</td>\n",
       "      <td>0.068000</td>\n",
       "      <td>0.033786</td>\n",
       "      <td>0.898214</td>\n",
       "      <td>-0.6249</td>\n",
       "      <td>0.421</td>\n",
       "      <td>0.000</td>\n",
       "      <td>0.579</td>\n",
       "      <td>disagree</td>\n",
       "      <td>1.648000</td>\n",
       "      <td>2.044688</td>\n",
       "      <td>0.861034</td>\n",
       "      <td>0.616241</td>\n",
       "    </tr>\n",
       "    <tr>\n",
       "      <th>0</th>\n",
       "      <td>44901</td>\n",
       "      <td>818</td>\n",
       "      <td>0.225726</td>\n",
       "      <td>0.280303</td>\n",
       "      <td>0.726502</td>\n",
       "      <td>0.655781</td>\n",
       "      <td>0.000869</td>\n",
       "      <td>0.047000</td>\n",
       "      <td>0.043937</td>\n",
       "      <td>0.909125</td>\n",
       "      <td>0.4019</td>\n",
       "      <td>0.000</td>\n",
       "      <td>0.197</td>\n",
       "      <td>0.803</td>\n",
       "      <td>agree</td>\n",
       "      <td>1.236187</td>\n",
       "      <td>3.055790</td>\n",
       "      <td>0.953267</td>\n",
       "      <td>0.259537</td>\n",
       "    </tr>\n",
       "  </tbody>\n",
       "</table>\n",
       "</div>"
      ],
      "text/plain": [
       "        id  Body ID  cosine_bow  cosine_tf_idf  cosine_embd_mean  \\\n",
       "368  44761     1245    0.126592       0.000000          0.911938   \n",
       "369  44782     1099    0.306186       0.219186          0.795051   \n",
       "370  44838     1222    0.363395       0.560565          0.835623   \n",
       "371  44877     1298    0.184174       0.217427          0.835470   \n",
       "0    44901      818    0.225726       0.280303          0.726502   \n",
       "\n",
       "     cosine_word2vec_mean  article_compound  article_neg  article_pos  \\\n",
       "368              0.539286          0.116640     0.012800     0.050200   \n",
       "369              0.768108         -0.571900     0.275000     0.127000   \n",
       "370              0.690828         -0.064166     0.044657     0.044371   \n",
       "371              0.628565         -0.150271     0.068000     0.033786   \n",
       "0                0.655781          0.000869     0.047000     0.043937   \n",
       "\n",
       "     article_neu  headline_compound  headline_neg  headline_pos  headline_neu  \\\n",
       "368     0.936800            -0.5859         0.297         0.000         0.703   \n",
       "369     0.598000             0.2023         0.000         0.184         0.816   \n",
       "370     0.910971             0.0000         0.000         0.000         1.000   \n",
       "371     0.898214            -0.6249         0.421         0.000         0.579   \n",
       "0       0.909125             0.4019         0.000         0.197         0.803   \n",
       "\n",
       "       Stance  kl_dirichlet  kl_jelinek_mercer  cosine_svd  cosine_lda  \n",
       "368  disagree      1.555461           1.790588    0.900075    0.409966  \n",
       "369  disagree      1.219190           2.617037    0.536477    0.865373  \n",
       "370  disagree      1.585666           2.470897    0.610571    0.597480  \n",
       "371  disagree      1.648000           2.044688    0.861034    0.616241  \n",
       "0       agree      1.236187           3.055790    0.953267    0.259537  "
      ]
     },
     "execution_count": 109,
     "metadata": {},
     "output_type": "execute_result"
    }
   ],
   "source": [
    "train_feats.head()"
   ]
  },
  {
   "cell_type": "code",
   "execution_count": 110,
   "metadata": {
    "collapsed": false
   },
   "outputs": [],
   "source": [
    "train_feats.to_csv('test_all_feats.csv')"
   ]
  },
  {
   "cell_type": "code",
   "execution_count": null,
   "metadata": {
    "collapsed": true
   },
   "outputs": [],
   "source": []
  }
 ],
 "metadata": {
  "anaconda-cloud": {},
  "kernelspec": {
   "display_name": "Python [conda env:anaconda3]",
   "language": "python",
   "name": "conda-env-anaconda3-py"
  },
  "language_info": {
   "codemirror_mode": {
    "name": "ipython",
    "version": 3
   },
   "file_extension": ".py",
   "mimetype": "text/x-python",
   "name": "python",
   "nbconvert_exporter": "python",
   "pygments_lexer": "ipython3",
   "version": "3.5.2"
  }
 },
 "nbformat": 4,
 "nbformat_minor": 1
}
